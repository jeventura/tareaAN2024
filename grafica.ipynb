{
 "cells": [
  {
   "cell_type": "code",
   "execution_count": 13,
   "id": "5f09f2df",
   "metadata": {},
   "outputs": [],
   "source": [
    "import pandas as pd\n",
    "import sympy as sp\n",
    "import numpy as np\n",
    "import os as os\n",
    "import matplotlib.pyplot as plt \n",
    "\n",
    "pd.set_option(\"display.precision\", 10)"
   ]
  },
  {
   "cell_type": "code",
   "execution_count": 14,
   "id": "76c3c70b",
   "metadata": {},
   "outputs": [],
   "source": [
    "def remove_file(file_name):\n",
    "    if os.path.exists(file_name):\n",
    "        os.remove(file_name)\n",
    "        "
   ]
  },
  {
   "cell_type": "code",
   "execution_count": 15,
   "id": "2bf47ce1",
   "metadata": {},
   "outputs": [],
   "source": [
    "def export_table(data_frame, file_name):\n",
    "    remove_file(f\"{file_name}.csv\")\n",
    "    remove_file(f\"{file_name}.html\")\n",
    "    data_frame.to_csv(f\"{file_name}.csv\")\n",
    "    data_frame.to_html(f\"{file_name}.html\")\n",
    "                "
   ]
  },
  {
   "cell_type": "code",
   "execution_count": 16,
   "id": "161061a8",
   "metadata": {},
   "outputs": [],
   "source": [
    "def create_dictionary(columns):\n",
    "    dictionary = {}\n",
    "    for c in columns: \n",
    "        dictionary[c] = []    \n",
    "    return dictionary"
   ]
  },
  {
   "cell_type": "code",
   "execution_count": 17,
   "id": "ae34619e",
   "metadata": {},
   "outputs": [],
   "source": [
    "cols = [\"i\", \"x2\", \"x1\", \"x3\", \"Error\"]\n",
    "dict1 = create_dictionary(cols)"
   ]
  },
  {
   "cell_type": "code",
   "execution_count": 18,
   "id": "61c70052",
   "metadata": {},
   "outputs": [],
   "source": [
    "def add_info(dictionary, columns, data):\n",
    "    i = 0\n",
    "    for c in columns:\n",
    "        dictionary[c].append(data[i])\n",
    "        i += 1"
   ]
  },
  {
   "cell_type": "code",
   "execution_count": 19,
   "id": "9b5ec5e5",
   "metadata": {},
   "outputs": [],
   "source": [
    "def secante(f, x1, x2, tol):\n",
    "    print (\"Este programa encuentra una raíz por el método de la secante \")\n",
    "    x3 = 0\n",
    "    n = 0\n",
    "    error = 100\n",
    "    data = [n, x2, x1, x3, error]\n",
    "    print('{:^10}{:^10}{:^10}{:^10}{:^10}'.format('i', 'xi', 'f(xi)', 'x3', 'error'))\n",
    "    \n",
    "    while error > tol:\n",
    "        x3 = x2 - ((x1 - x2) / (f(x1) - f(x2))) * f(x2)\n",
    "        x1 = x2\n",
    "        x2 = x3\n",
    "        error = abs((x2 - x1) / x2)\n",
    "        n += 1\n",
    "        print('{:^10}{:^10.6f}{:^10.6f}{:^10.6f}{:^10.6f}'.format(n, float(x1), float(f(x1)), float(x2), float(error)))\n",
    "        data = [n, x2, x1, x3, error]\n",
    "        add_info(dict1, cols, data)\n",
    "        \n",
    "    print(\"Solución aproximada :\", x3)\n",
    "    print(\"Número de iteraciones:\", n)\n",
    "    "
   ]
  },
  {
   "cell_type": "code",
   "execution_count": 20,
   "id": "818a8313",
   "metadata": {},
   "outputs": [],
   "source": [
    "f = lambda x: x**2 - 10"
   ]
  },
  {
   "cell_type": "code",
   "execution_count": 21,
   "id": "b3e719d3",
   "metadata": {},
   "outputs": [
    {
     "name": "stdout",
     "output_type": "stream",
     "text": [
      "Este programa encuentra una raíz por el método de la secante \n",
      "    i         xi      f(xi)       x3      error   \n",
      "    1     11.000000 111.000000 5.714286  0.925000 \n",
      "    2      5.714286 22.653061  4.358974  0.310924 \n",
      "    3      4.358974  9.000657  3.465455  0.257836 \n",
      "    4      3.465455  2.009375  3.208647  0.080036 \n",
      "    5      3.208647  0.295413  3.164384  0.013988 \n",
      "    6      3.164384  0.013326  3.162293  0.000661 \n",
      "    7      3.162293  0.000097  3.162278  0.000005 \n",
      "    8      3.162278  0.000000  3.162278  0.000000 \n",
      "Solución aproximada : 3.1622776601683915\n",
      "Número de iteraciones: 8\n"
     ]
    },
    {
     "data": {
      "image/png": "[encoded data removed]",
      "text/plain": [
       "<Figure size 432x288 with 1 Axes>"
      ]
     },
     "metadata": {
      "needs_background": "light"
     },
     "output_type": "display_data"
    }
   ],
   "source": [
    "secante(f, 10, 11, 1e-7)\n",
    "\n",
    "x = np.arange(0, 15)\n",
    "y = f(x)\n",
    "\n",
    "plt.plot(x, y, 'r');\n",
    "plt.grid()\n",
    "plt.axhline(0, color='black')\n",
    "plt.axvline(0, color='black')\n",
    "plt.show()"
   ]
  },
  {
   "cell_type": "code",
   "execution_count": null,
   "id": "a760d53f",
   "metadata": {},
   "outputs": [],
   "source": []
  }
 ],
 "metadata": {
  "kernelspec": {
   "display_name": "Python 3 (ipykernel)",
   "language": "python",
   "name": "python3"
  },
  "language_info": {
   "codemirror_mode": {
    "name": "ipython",
    "version": 3
   },
   "file_extension": ".py",
   "mimetype": "text/x-python",
   "name": "python",
   "nbconvert_exporter": "python",
   "pygments_lexer": "ipython3",
   "version": "3.9.12"
  }
 },
 "nbformat": 4,
 "nbformat_minor": 5
}
