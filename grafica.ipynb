{
 "cells": [
  {
   "cell_type": "code",
   "execution_count": 1,
   "id": "c830f4c8",
   "metadata": {},
   "outputs": [],
   "source": [
    "import pandas as pd\n",
    "import sympy as sp\n",
    "import numpy as np\n",
    "import os as os\n",
    "import matplotlib.pyplot as plt \n",
    "\n",
    "pd.set_option(\"display.precision\", 10)\n",
    "\n"
   ]
  },
  {
   "cell_type": "code",
   "execution_count": 2,
   "id": "d888085b",
   "metadata": {},
   "outputs": [],
   "source": [
    "def remove_file(file_name):\n",
    "    if os.path.exists(file_name):\n",
    "        os.remove(file_name)"
   ]
  },
  {
   "cell_type": "code",
   "execution_count": 3,
   "id": "a5acb757",
   "metadata": {},
   "outputs": [],
   "source": [
    "def export_table(data_frame, file_name):\n",
    "    remove_file(f\"{file_name}.csv\")\n",
    "    remove_file(f\"{file_name}.html\")\n",
    "    data_frame.to_csv(f\"{file_name}.csv\")\n",
    "    data_frame.to_html(f\"{file_name}.html\")\n",
    "                "
   ]
  },
  {
   "cell_type": "code",
   "execution_count": 4,
   "id": "b3220a7e",
   "metadata": {
    "scrolled": true
   },
   "outputs": [],
   "source": [
    "def create_dictionary(columns):\n",
    "    \n",
    "    dictionary = {}\n",
    "    for c in columns: \n",
    "        dictionary[c] = []\n",
    "        \n",
    "    return dictionary"
   ]
  },
  {
   "cell_type": "code",
   "execution_count": 5,
   "id": "00920c75",
   "metadata": {},
   "outputs": [],
   "source": [
    "cols = [\"i\", \"x2\", \"x1\", \"x3\", \"Error\"]\n",
    "dict1 = create_dictionary(cols)"
   ]
  },
  {
   "cell_type": "code",
   "execution_count": 6,
   "id": "5cf4c21b-fb5a-4002-9b1e-fa31e265ab91",
   "metadata": {},
   "outputs": [],
   "source": [
    "def add_info(dictionary,columns,data):\n",
    "    i=0\n",
    "    for c in columns:\n",
    "        dictionary[c].append(data[i])\n",
    "        i += 1"
   ]
  },
  {
   "cell_type": "code",
   "execution_count": 7,
   "id": "8533a916",
   "metadata": {},
   "outputs": [],
   "source": [
    "dict1.clear()"
   ]
  },
  {
   "cell_type": "code",
   "execution_count": 8,
   "id": "c2cb96f6",
   "metadata": {},
   "outputs": [],
   "source": [
    "def secante (f, x1, x2, tol):\n",
    "    print (\"este programa encuentra una raiz por el metodo de la secante \")\n",
    "    x3=0\n",
    "    n=0\n",
    "    error=100\n",
    "    data=[n,x2,x1,x3,error]\n",
    "    print('{:^10}{:^10}{:^10}{:^10}{:^10}'.format('i','xi','f(xi)','x3','error'))\n",
    "    while(error) > tol :\n",
    "        x3 = x2-((x1-x2) / (f(x1) -f(x2))) *f (x2)\n",
    "        x1 = x2\n",
    "        x2 = x3\n",
    "        error = abs ((x2-x1)/x2)\n",
    "        n += 1\n",
    "        print('{:^10}{:^10.6f}{:^10.6f}{:^10.6f}{:^10.6f}'.format(n,float(x1),float(f(x1)), float(x2),float(error)))\n",
    "        f= lambda x:(x**2)-10\n",
    "        \n",
    "        data=[n,x2,x1,x3,error]\n",
    "        add_info(dict1,cols,data)\n",
    "        \n",
    "        \n",
    "        x=np.linspace(0,10,100)\n",
    "        plt.axline((x2, f(x2)), (x1, f(x1)),color='lightgrey')\n",
    "        plt.grid()\n",
    "        plt.axhline(0, color='black')\n",
    "        plt.axvline(0, color='black')\n",
    "\n",
    "    print(\"solucion aproximada :\", x3)\n",
    "    print (\"Numero de iteraciones: {:d}\".format(n))\n",
    "    #print (dict1)\n"
   ]
  },
  {
   "cell_type": "code",
   "execution_count": 9,
   "id": "3accbaf3-5ee4-41d8-b1cd-ae886196a74d",
   "metadata": {},
   "outputs": [],
   "source": [
    "f=lambda x:x**2-10"
   ]
  },
  {
   "cell_type": "code",
   "execution_count": 10,
   "id": "c7991899-3de2-47a6-b14d-0bc81a44f0b1",
   "metadata": {},
   "outputs": [
    {
     "name": "stdout",
     "output_type": "stream",
     "text": [
      "este programa encuentra una raiz por el metodo de la secante \n",
      "    i         xi      f(xi)       x3      error   \n",
      "    1     11.000000 111.000000 5.714286  0.925000 \n"
     ]
    },
    {
     "ename": "KeyError",
     "evalue": "'i'",
     "output_type": "error",
     "traceback": [
      "\u001b[0;31m---------------------------------------------------------------------------\u001b[0m",
      "\u001b[0;31mKeyError\u001b[0m                                  Traceback (most recent call last)",
      "Input \u001b[0;32mIn [10]\u001b[0m, in \u001b[0;36m<cell line: 1>\u001b[0;34m()\u001b[0m\n\u001b[0;32m----> 1\u001b[0m \u001b[43msecante\u001b[49m\u001b[43m(\u001b[49m\u001b[43mf\u001b[49m\u001b[43m,\u001b[49m\u001b[38;5;241;43m10\u001b[39;49m\u001b[43m,\u001b[49m\u001b[38;5;241;43m11\u001b[39;49m\u001b[43m,\u001b[49m\u001b[38;5;241;43m1e-7\u001b[39;49m\u001b[43m)\u001b[49m\n\u001b[1;32m      3\u001b[0m x\u001b[38;5;241m=\u001b[39mnp\u001b[38;5;241m.\u001b[39marange(\u001b[38;5;241m0\u001b[39m,\u001b[38;5;241m15\u001b[39m)\n\u001b[1;32m      4\u001b[0m \u001b[38;5;66;03m#linspace(0,10,100)\u001b[39;00m\n",
      "Input \u001b[0;32mIn [8]\u001b[0m, in \u001b[0;36msecante\u001b[0;34m(f, x1, x2, tol)\u001b[0m\n\u001b[1;32m     15\u001b[0m f\u001b[38;5;241m=\u001b[39m \u001b[38;5;28;01mlambda\u001b[39;00m x:(x\u001b[38;5;241m*\u001b[39m\u001b[38;5;241m*\u001b[39m\u001b[38;5;241m2\u001b[39m)\u001b[38;5;241m-\u001b[39m\u001b[38;5;241m10\u001b[39m\n\u001b[1;32m     17\u001b[0m data\u001b[38;5;241m=\u001b[39m[n,x2,x1,x3,error]\n\u001b[0;32m---> 18\u001b[0m \u001b[43madd_info\u001b[49m\u001b[43m(\u001b[49m\u001b[43mdict1\u001b[49m\u001b[43m,\u001b[49m\u001b[43mcols\u001b[49m\u001b[43m,\u001b[49m\u001b[43mdata\u001b[49m\u001b[43m)\u001b[49m\n\u001b[1;32m     21\u001b[0m x\u001b[38;5;241m=\u001b[39mnp\u001b[38;5;241m.\u001b[39mlinspace(\u001b[38;5;241m0\u001b[39m,\u001b[38;5;241m10\u001b[39m,\u001b[38;5;241m100\u001b[39m)\n\u001b[1;32m     22\u001b[0m plt\u001b[38;5;241m.\u001b[39maxline((x2, f(x2)), (x1, f(x1)),color\u001b[38;5;241m=\u001b[39m\u001b[38;5;124m'\u001b[39m\u001b[38;5;124mlightgrey\u001b[39m\u001b[38;5;124m'\u001b[39m)\n",
      "Input \u001b[0;32mIn [6]\u001b[0m, in \u001b[0;36madd_info\u001b[0;34m(dictionary, columns, data)\u001b[0m\n\u001b[1;32m      2\u001b[0m i\u001b[38;5;241m=\u001b[39m\u001b[38;5;241m0\u001b[39m\n\u001b[1;32m      3\u001b[0m \u001b[38;5;28;01mfor\u001b[39;00m c \u001b[38;5;129;01min\u001b[39;00m columns:\n\u001b[0;32m----> 4\u001b[0m     \u001b[43mdictionary\u001b[49m\u001b[43m[\u001b[49m\u001b[43mc\u001b[49m\u001b[43m]\u001b[49m\u001b[38;5;241m.\u001b[39mappend(data[i])\n\u001b[1;32m      5\u001b[0m     i \u001b[38;5;241m+\u001b[39m\u001b[38;5;241m=\u001b[39m \u001b[38;5;241m1\u001b[39m\n",
      "\u001b[0;31mKeyError\u001b[0m: 'i'"
     ]
    }
   ],
   "source": [
    "secante(f,10,11,1e-7)\n",
    "\n",
    "x=np.arange(0,15)\n",
    "#linspace(0,10,100)\n",
    "y=f(x)\n",
    "\n",
    "plt.plot(x,y,'r');\n",
    "#plt.savefig(f\"fig_graph.png\", bbox_inches=\"tight\")"
   ]
  },
  {
   "cell_type": "code",
   "execution_count": null,
   "id": "4f419143-cf97-4bb6-a980-272f1b8de37b",
   "metadata": {},
   "outputs": [],
   "source": []
  },
  {
   "cell_type": "code",
   "execution_count": null,
   "id": "2aeab6a3-971c-4853-8cb3-8d5327ba09f2",
   "metadata": {},
   "outputs": [],
   "source": []
  }
 ],
 "metadata": {
  "kernelspec": {
   "display_name": "Python 3 (ipykernel)",
   "language": "python",
   "name": "python3"
  },
  "language_info": {
   "codemirror_mode": {
    "name": "ipython",
    "version": 3
   },
   "file_extension": ".py",
   "mimetype": "text/x-python",
   "name": "python",
   "nbconvert_exporter": "python",
   "pygments_lexer": "ipython3",
   "version": "3.9.12"
  }
 },
 "nbformat": 4,
 "nbformat_minor": 5
}
