{
 "cells": [
  {
   "cell_type": "markdown",
   "id": "817ca757",
   "metadata": {},
   "source": [
    "# G1_Power Rangers\n",
    "\n",
    "## Alumno:\n",
    "\n",
    "- Ventura Escamilla, Julio Eduardo [00023199]\n",
    " \n",
    "\n",
    "### Tema: Metodo de la secante\n"
   ]
  },
  {
   "cell_type": "markdown",
   "id": "c687e06e-847c-466f-a4fd-56e8e8ae70db",
   "metadata": {},
   "source": [
    "# Metodo de la secante"
   ]
  },
  {
   "cell_type": "markdown",
   "id": "323d1bcc",
   "metadata": {},
   "source": [
    "En análisis numérico el método de la secante es un\n",
    "método para encontrar los ceros de una función de\n",
    "forma iterativa."
   ]
  },
  {
   "cell_type": "markdown",
   "id": "7e43511a",
   "metadata": {},
   "source": [
    "Es una variación del método de Newton-Raphson donde\n",
    "en vez de calcular la derivada de la función en el punto\n",
    "de estudio, teniendo en mente la definición de\n",
    "derivada, se aproxima la pendiente a la recta que une la\n",
    "función evaluada en el punto de estudio y en el punto\n",
    "de la iteración anterior. Este método es de especial\n",
    "interés cuando el coste computacional de derivar la\n",
    "función de estudio y evaluarla es demasiado elevado,\n",
    "por lo que el método de Newton no resulta atractivo."
   ]
  },
  {
   "cell_type": "markdown",
   "id": "d9aa5672",
   "metadata": {},
   "source": [
    "En otras palabras, el método de la secante es un\n",
    "algoritmo de la raíz de investigación que utiliza una\n",
    "serie de raíces de las líneas secantes para aproximar\n",
    "mejor la raíz de una función f. El método de la secante\n",
    "se puede considerar como una aproximación en\n",
    "diferencias finitas del método de Newton-Raphson. Sin\n",
    "embargo, este método fue desarrollado\n",
    "independientemente de este último."
   ]
  },
  {
   "cell_type": "markdown",
   "id": "88d2be6c",
   "metadata": {},
   "source": [
    "El método se define por la relación de recurrencia:"
   ]
  },
  {
   "cell_type": "markdown",
   "id": "4d0d2d7f",
   "metadata": {},
   "source": [
    "$X_{n+1}$ = $X_n$- $\\frac{X_n-X_{n-1}}{f(X_n)-f(X_{n-1}}f(X_n) $"
   ]
  },
  {
   "cell_type": "markdown",
   "id": "c09e0cc6",
   "metadata": {},
   "source": [
    "Como se puede ver, este método necesitará dos\n",
    "aproximaciones iniciales de la raíz para poder inducir\n",
    "una pendiente inicial.\n",
    "![img](img/secante.jpeg)"
   ]
  },
  {
   "cell_type": "markdown",
   "id": "b2675b84",
   "metadata": {},
   "source": [
    "## Requisitos previos del metodo\n",
    "Para la ejecución del programa necesitamos conocer el intervalo [a,b] entre los que se va a buscar la raiz, asi como la tolerancia que le daremos al programa para encontrar el resultado\n"
   ]
  },
  {
   "cell_type": "markdown",
   "id": "17e5a471",
   "metadata": {},
   "source": [
    "## Diagrama de flujo\n",
    "\n",
    "![img](img/flujograma.jpeg)"
   ]
  },
  {
   "cell_type": "markdown",
   "id": "4902637e",
   "metadata": {},
   "source": [
    "## Criterio de detención del método (error)\n",
    "El metodo cuenta con un criterio de detención, donde, en caso de que la función evaluada en x2 sea menor que lo que el usuario maneje como tolerancia provocará que el programa se detenga, de lo contrario seguirá repitiendo un determinado número de instrucciones. Además de esto, puede haber casos donde se genere una división entre cero dentro de las operaciones del programa, generando un error y una indeterminación del resultado.\n"
   ]
  },
  {
   "cell_type": "markdown",
   "id": "e0d69bce",
   "metadata": {},
   "source": [
    "## CODIGO COMPLETO"
   ]
  },
  {
   "cell_type": "code",
   "execution_count": 4,
   "id": "6600e960",
   "metadata": {},
   "outputs": [],
   "source": [
    "def secante (f, x1, x2, tol):\n",
    "    error= 1e3\n",
    "    n =0\n",
    "    x3 = 0\n",
    "    while error > tol:\n",
    "        x3 = x1-((x2-x1) / (f(x2) -f(x1))) *f (x1)\n",
    "        x1 = x2\n",
    "        x2 = x3\n",
    "        error = abs (f(x3))\n",
    "        n += 1\n",
    "    print (\"Solucion aproximada: {:.4f} \".format(x3))\n",
    "    print (\"Numero de iteraciones: {:d}\".format(n))"
   ]
  },
  {
   "cell_type": "code",
   "execution_count": 6,
   "id": "1f0776b9",
   "metadata": {},
   "outputs": [],
   "source": [
    "f=lambda x:x**2-10"
   ]
  },
  {
   "cell_type": "code",
   "execution_count": 7,
   "id": "ab793522",
   "metadata": {},
   "outputs": [
    {
     "name": "stdout",
     "output_type": "stream",
     "text": [
      "Solucion aproximada: 3.1623 \n",
      "Numero de iteraciones: 7\n"
     ]
    }
   ],
   "source": [
    "secante(f,11,10,1e-7)"
   ]
  },
  {
   "cell_type": "code",
   "execution_count": 34,
   "id": "f14b04fc",
   "metadata": {},
   "outputs": [],
   "source": [
    "def secante (f, x1, x2, tol):\n",
    "    print (\"este programa encuentra una raiz por el metodo de la secante \")\n",
    "    x3=0\n",
    "    n=0\n",
    "    error=100\n",
    "    print('{:^10}{:^10}{:^10}{:^10}{:^10}'.format('i','xi','f(xi)','x+1','error'))\n",
    "    while(error) > tol :\n",
    "        x3 = x1-((x2-x1) / (f(x2) -f(x1))) *f (x1)\n",
    "        x1 = x2\n",
    "        x2 = x3\n",
    "        error = abs (f(x3))\n",
    "        n += 1\n",
    "        print('{:^10}{:^10.6f}{:^10.6f}{:^10.6f}{:^10.6f}'.format(n,float(x1),float(f(x1)), float(x2),float(error)))\n",
    "    print(\"solucion aproximada :\", x3)\n",
    "    print (\"Numero de iteraciones: {:d}\".format(n))\n",
    "\n"
   ]
  },
  {
   "cell_type": "code",
   "execution_count": 35,
   "id": "5051345f",
   "metadata": {},
   "outputs": [],
   "source": [
    "f=lambda x:x**2-10"
   ]
  },
  {
   "cell_type": "code",
   "execution_count": 36,
   "id": "6fa7d85c",
   "metadata": {},
   "outputs": [
    {
     "name": "stdout",
     "output_type": "stream",
     "text": [
      "este programa encuentra una raiz por el metodo de la secante \n",
      "    i         xi      f(xi)      x+1      error   \n",
      "    1     10.000000 90.000000  5.714286 22.653061 \n",
      "    2      5.714286 22.653061  4.272727  8.256198 \n",
      "    3      4.272727  8.256198  3.446034  1.875149 \n",
      "    4      3.446034  1.875149  3.203100  0.259849 \n",
      "    5      3.203100  0.259849  3.164020  0.011021 \n",
      "    6      3.164020  0.011021  3.162289  0.000071 \n",
      "    7      3.162289  0.000071  3.162278  0.000000 \n",
      "solucion aproximada : 3.1622776632441694\n",
      "Numero de iteraciones: 7\n"
     ]
    }
   ],
   "source": [
    "secante(f,11,10,1e-7)"
   ]
  },
  {
   "cell_type": "markdown",
   "id": "dc2a68c5",
   "metadata": {},
   "source": [
    "ejemplos\n",
    "\n",
    "\n",
    "| Funcion |  Puntos introducidos [x0,x1]  |  Error considerado | Resultado de la raiz real | Resultado obtenido con el metodo  | Problema |\n",
    "|:---:|:---:|:---:|:---:|:---:|:---:|\n",
    "|  $xSen{x-1}$  |  [1,2] | 0.001  | 9.317243 | 1.11425  | 0 |\n",
    "| $x^{2/4}$ | [-1, 1]  | 0.0001 | 0  | no aplica  | \tCuando los puntos que se le ingresas son iguales en magnitud hace que se genere una división entre 0 a la hora de calcular x2 |"
   ]
  },
  {
   "cell_type": "markdown",
   "id": "21886ddd",
   "metadata": {},
   "source": [
    "## Conclusiones\n",
    "El método de la secante como todos los métodos que hemos visto hasta ahora tiene sus ventajas y desventajas, pues existen casos donde no podremos encontrar la raíz. Es un método que es una variante del  de Newton, que tiene la ventaja de no necesitar usar la derivada de una función para calcular la raíz, que ya consigo trae muchas ventajas, además de algunos casos donde encuentra el resultado en menor tiempo que lo que lo hace Newton y muchos otros métodos, por lo que habría que considerar el tipo de función para ver si este método es el más adecuado."
   ]
  },
  {
   "cell_type": "markdown",
   "id": "274a6d70-6f25-40a8-a20b-7b05b8bc2f46",
   "metadata": {},
   "source": [
    "## Referencias\n",
    "\n",
    "[1]  Hass, J., Heil, C., Weir, M., Estrugo, J. and Thomas, G., n.d. Thomas' calculus. 13th ed.\n",
    "\n",
    "[2] Burden, R., Faires, J. and Burden, A., 2016. Análisis numérico. 10th ed. México: Cengage Learning.\n"
   ]
  }
 ],
 "metadata": {
  "kernelspec": {
   "display_name": "Python 3 (ipykernel)",
   "language": "python",
   "name": "python3"
  },
  "language_info": {
   "codemirror_mode": {
    "name": "ipython",
    "version": 3
   },
   "file_extension": ".py",
   "mimetype": "text/x-python",
   "name": "python",
   "nbconvert_exporter": "python",
   "pygments_lexer": "ipython3",
   "version": "3.9.12"
  }
 },
 "nbformat": 4,
 "nbformat_minor": 5
}
