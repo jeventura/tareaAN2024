{
 "cells": [
  {
   "cell_type": "markdown",
   "id": "c687e06e-847c-466f-a4fd-56e8e8ae70db",
   "metadata": {},
   "source": [
    "# Metodo de la secante"
   ]
  },
  {
   "cell_type": "markdown",
   "id": "323d1bcc",
   "metadata": {},
   "source": [
    "En análisis numérico el método de la secante es un\n",
    "método para encontrar los ceros de una función de\n",
    "forma iterativa."
   ]
  },
  {
   "cell_type": "markdown",
   "id": "7e43511a",
   "metadata": {},
   "source": [
    "Es una variación del método de Newton-Raphson donde\n",
    "en vez de calcular la derivada de la función en el punto\n",
    "de estudio, teniendo en mente la definición de\n",
    "derivada, se aproxima la pendiente a la recta que une la\n",
    "función evaluada en el punto de estudio y en el punto\n",
    "de la iteración anterior. Este método es de especial\n",
    "interés cuando el coste computacional de derivar la\n",
    "función de estudio y evaluarla es demasiado elevado,\n",
    "por lo que el método de Newton no resulta atractivo."
   ]
  },
  {
   "cell_type": "markdown",
   "id": "d9aa5672",
   "metadata": {},
   "source": [
    "En otras palabras, el método de la secante es un\n",
    "algoritmo de la raíz de investigación que utiliza una\n",
    "serie de raíces de las líneas secantes para aproximar\n",
    "mejor la raíz de una función f. El método de la secante\n",
    "se puede considerar como una aproximación en\n",
    "diferencias finitas del método de Newton-Raphson. Sin\n",
    "embargo, este método fue desarrollado\n",
    "independientemente de este último."
   ]
  },
  {
   "cell_type": "markdown",
   "id": "88d2be6c",
   "metadata": {},
   "source": [
    "El método se define por la relación de recurrencia:"
   ]
  },
  {
   "cell_type": "markdown",
   "id": "4d0d2d7f",
   "metadata": {},
   "source": [
    "$X_{n+1}$ = $X_n$- $\\frac{X_n-X_{n-1}}{f(X_n)-f(X_{n-1}}f(X_n) $"
   ]
  },
  {
   "attachments": {},
   "cell_type": "markdown",
   "id": "c09e0cc6",
   "metadata": {},
   "source": [
    "Como se puede ver, este método necesitará dos\n",
    "aproximaciones iniciales de la raíz para poder inducir\n",
    "una pendiente inicial.\n",
    "![img](img/secante.jpeg)"
   ]
  },
  {
   "cell_type": "markdown",
   "id": "b2675b84",
   "metadata": {},
   "source": [
    "## Requisitos previos del metodo\n",
    "Para la ejecución del programa necesitamos conocer el intervalo [a,b] entre los que se va a buscar la raiz, asi como la tolerancia que le daremos al programa para encontrar el resultado\n"
   ]
  },
  {
   "cell_type": "markdown",
   "id": "17e5a471",
   "metadata": {},
   "source": [
    "## Diagrama de flujo\n",
    "\n",
    "![img](img/flujograma.jpeg)"
   ]
  },
  {
   "cell_type": "markdown",
   "id": "4902637e",
   "metadata": {},
   "source": [
    "## Criterio de detención del método (error)\n",
    "El metodo cuenta con un criterio de detención, donde, en caso de que la función evaluada en x2 sea menor que lo que el usuario maneje como tolerancia provocará que el programa se detenga, de lo contrario seguirá repitiendo un determinado número de instrucciones. Además de esto, puede haber casos donde se genere una división entre cero dentro de las operaciones del programa, generando un error y una indeterminación del resultado.\n"
   ]
  },
  {
   "cell_type": "markdown",
   "id": "e0d69bce",
   "metadata": {},
   "source": [
    "## CODIGO COMPLETO"
   ]
  },
  {
   "cell_type": "code",
   "execution_count": null,
   "id": "0c2a1d41",
   "metadata": {},
   "outputs": [],
   "source": [
    "import pandas as pd\n",
    "import sympy as sp\n",
    "import numpy as np\n",
    "import os as os\n",
    "import matplotlib.pyplot as plt \n",
    "\n",
    "pd.set_option(\"display.precision\", 10)"
   ]
  },
  {
   "cell_type": "code",
   "execution_count": null,
   "id": "466c6e9d",
   "metadata": {},
   "outputs": [],
   "source": [
    "def remove_file(file_name):\n",
    "    if os.path.exists(file_name):\n",
    "        os.remove(file_name)"
   ]
  },
  {
   "cell_type": "code",
   "execution_count": null,
   "id": "0b5ef2be",
   "metadata": {},
   "outputs": [],
   "source": [
    "def export_table(data_frame, file_name):\n",
    "    remove_file(f\"{file_name}.csv\")\n",
    "    remove_file(f\"{file_name}.html\")\n",
    "    data_frame.to_csv(f\"{file_name}.csv\")\n",
    "    data_frame.to_html(f\"{file_name}.html\")"
   ]
  },
  {
   "cell_type": "code",
   "execution_count": null,
   "id": "4a802fe2",
   "metadata": {},
   "outputs": [],
   "source": [
    "def create_dictionary(columns):\n",
    "    dictionary = {}\n",
    "    for c in columns: \n",
    "        dictionary[c] = []    \n",
    "    return dictionary"
   ]
  },
  {
   "cell_type": "code",
   "execution_count": null,
   "id": "574584c8",
   "metadata": {},
   "outputs": [],
   "source": [
    "cols = [\"i\", \"x2\", \"x1\", \"x3\", \"Error\"]\n",
    "dict1 = create_dictionary(cols)"
   ]
  },
  {
   "cell_type": "code",
   "execution_count": null,
   "id": "2d652629",
   "metadata": {},
   "outputs": [],
   "source": [
    "def add_info(dictionary, columns, data):\n",
    "    i = 0\n",
    "    for c in columns:\n",
    "        dictionary[c].append(data[i])\n",
    "        i += 1"
   ]
  },
  {
   "cell_type": "code",
   "execution_count": null,
   "id": "e89d9cfb",
   "metadata": {},
   "outputs": [],
   "source": [
    "def secante(f, x1, x2, tol):\n",
    "    print (\"Este programa encuentra una raíz por el método de la secante \")\n",
    "    x3 = 0\n",
    "    n = 0\n",
    "    error = 100\n",
    "    data = [n, x2, x1, x3, error]\n",
    "    print('{:^10}{:^10}{:^10}{:^10}{:^10}'.format('i', 'xi', 'f(xi)', 'x3', 'error'))\n",
    "    \n",
    "    while error > tol:\n",
    "        x3 = x2 - ((x1 - x2) / (f(x1) - f(x2))) * f(x2)\n",
    "        x1 = x2\n",
    "        x2 = x3\n",
    "        error = abs((x2 - x1) / x2)\n",
    "        n += 1\n",
    "        print('{:^10}{:^10.6f}{:^10.6f}{:^10.6f}{:^10.6f}'.format(n, float(x1), float(f(x1)), float(x2), float(error)))\n",
    "        data = [n, x2, x1, x3, error]\n",
    "        add_info(dict1, cols, data)\n",
    "        \n",
    "    print(\"Solución aproximada :\", x3)\n",
    "    print(\"Número de iteraciones:\", n)\n",
    "    "
   ]
  },
  {
   "cell_type": "code",
   "execution_count": null,
   "id": "3742fdad",
   "metadata": {},
   "outputs": [],
   "source": [
    "f = lambda x: x**2 - 10"
   ]
  },
  {
   "cell_type": "code",
   "execution_count": null,
   "id": "61d8b805",
   "metadata": {},
   "outputs": [],
   "source": [
    "secante(f, 10, 11, 1e-7)\n",
    "\n",
    "x = np.arange(0, 15)\n",
    "y = f(x)\n",
    "\n",
    "plt.plot(x, y, 'r');\n",
    "plt.grid()\n",
    "plt.axhline(0, color='black')\n",
    "plt.axvline(0, color='black')\n",
    "plt.show()"
   ]
  },
  {
   "cell_type": "markdown",
   "id": "dc2a68c5",
   "metadata": {},
   "source": [
    "ejemplos\n",
    "\n",
    "\n",
    "| Funcion |  Puntos introducidos [x0,x1]  |  Error considerado | Resultado de la raiz real | Resultado obtenido con el metodo  | Problema |\n",
    "|:---:|:---:|:---:|:---:|:---:|:---:|\n",
    "|  $xSen{x-1}$  |  [1,2] | 0.001  | 9.317243 | 1.11425  | 0 |\n",
    "| $x^{2/4}$ | [-1, 1]  | 0.0001 | 0  | no aplica  | \tCuando los puntos que se le ingresas son iguales en magnitud hace que se genere una división entre 0 a la hora de calcular x2 |"
   ]
  },
  {
   "cell_type": "markdown",
   "id": "21886ddd",
   "metadata": {},
   "source": [
    "## Conclusiones\n",
    "El método de la secante como todos los métodos que hemos visto hasta ahora tiene sus ventajas y desventajas, pues existen casos donde no podremos encontrar la raíz. Es un método que es una variante del  de Newton, que tiene la ventaja de no necesitar usar la derivada de una función para calcular la raíz, que ya consigo trae muchas ventajas, además de algunos casos donde encuentra el resultado en menor tiempo que lo que lo hace Newton y muchos otros métodos, por lo que habría que considerar el tipo de función para ver si este método es el más adecuado."
   ]
  },
  {
   "cell_type": "markdown",
   "id": "274a6d70-6f25-40a8-a20b-7b05b8bc2f46",
   "metadata": {},
   "source": [
    "## Referencias\n",
    "\n",
    "[1]  Hass, J., Heil, C., Weir, M., Estrugo, J. and Thomas, G., n.d. Thomas' calculus. 13th ed.\n",
    "\n",
    "[2] Burden, R., Faires, J. and Burden, A., 2016. Análisis numérico. 10th ed. México: Cengage Learning.\n"
   ]
  }
 ],
 "metadata": {
  "kernelspec": {
   "display_name": "Python 3 (ipykernel)",
   "language": "python",
   "name": "python3"
  },
  "language_info": {
   "codemirror_mode": {
    "name": "ipython",
    "version": 3
   },
   "file_extension": ".py",
   "mimetype": "text/x-python",
   "name": "python",
   "nbconvert_exporter": "python",
   "pygments_lexer": "ipython3",
   "version": "3.9.12"
  }
 },
 "nbformat": 4,
 "nbformat_minor": 5
}
